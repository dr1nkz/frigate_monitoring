{
 "cells": [
  {
   "cell_type": "code",
   "execution_count": 48,
   "metadata": {},
   "outputs": [],
   "source": [
    "import paho.mqtt.client as mqtt\n",
    "import json\n",
    "import requests"
   ]
  },
  {
   "cell_type": "code",
   "execution_count": 46,
   "metadata": {},
   "outputs": [
    {
     "name": "stdout",
     "output_type": "stream",
     "text": [
      "Connected with result code Success\n",
      "1710880842.594859-kakz56 None\n",
      "1710880842.594859-1adm48 None\n",
      "1710880842.594859-kakz56 None\n",
      "1710880842.594859-kakz56 None\n",
      "1710880842.594859-1adm48 None\n",
      "1710880842.594859-1adm48 None\n",
      "1710880842.594859-kakz56 1710880857.996247\n",
      "1710880842.594859-1adm48 1710880857.996247\n",
      "$SYS/brokers/disconnected b'{\"username\":\"(null)\",\"ts\":1710880888676,\"reason_code\":\"6\",\"client_id\":\"nanomq-80ca3a4d\"}'\n"
     ]
    },
    {
     "ename": "KeyboardInterrupt",
     "evalue": "",
     "output_type": "error",
     "traceback": [
      "\u001b[0;31m---------------------------------------------------------------------------\u001b[0m",
      "\u001b[0;31mKeyboardInterrupt\u001b[0m                         Traceback (most recent call last)",
      "Cell \u001b[0;32mIn[46], line 27\u001b[0m\n\u001b[1;32m     21\u001b[0m mqttc\u001b[38;5;241m.\u001b[39mconnect(\u001b[38;5;124m\"\u001b[39m\u001b[38;5;124mlocalhost\u001b[39m\u001b[38;5;124m\"\u001b[39m, \u001b[38;5;241m1883\u001b[39m, \u001b[38;5;241m60\u001b[39m)\n\u001b[1;32m     23\u001b[0m \u001b[38;5;66;03m# Blocking call that processes network traffic, dispatches callbacks and\u001b[39;00m\n\u001b[1;32m     24\u001b[0m \u001b[38;5;66;03m# handles reconnecting.\u001b[39;00m\n\u001b[1;32m     25\u001b[0m \u001b[38;5;66;03m# Other loop*() functions are available that give a threaded interface and a\u001b[39;00m\n\u001b[1;32m     26\u001b[0m \u001b[38;5;66;03m# manual interface.\u001b[39;00m\n\u001b[0;32m---> 27\u001b[0m \u001b[43mmqttc\u001b[49m\u001b[38;5;241;43m.\u001b[39;49m\u001b[43mloop_forever\u001b[49m\u001b[43m(\u001b[49m\u001b[43m)\u001b[49m\n",
      "File \u001b[0;32m~/.local/lib/python3.10/site-packages/paho/mqtt/client.py:2291\u001b[0m, in \u001b[0;36mClient.loop_forever\u001b[0;34m(self, timeout, retry_first_connection)\u001b[0m\n\u001b[1;32m   2289\u001b[0m rc \u001b[38;5;241m=\u001b[39m MQTTErrorCode\u001b[38;5;241m.\u001b[39mMQTT_ERR_SUCCESS\n\u001b[1;32m   2290\u001b[0m \u001b[38;5;28;01mwhile\u001b[39;00m rc \u001b[38;5;241m==\u001b[39m MQTTErrorCode\u001b[38;5;241m.\u001b[39mMQTT_ERR_SUCCESS:\n\u001b[0;32m-> 2291\u001b[0m     rc \u001b[38;5;241m=\u001b[39m \u001b[38;5;28;43mself\u001b[39;49m\u001b[38;5;241;43m.\u001b[39;49m\u001b[43m_loop\u001b[49m\u001b[43m(\u001b[49m\u001b[43mtimeout\u001b[49m\u001b[43m)\u001b[49m\n\u001b[1;32m   2292\u001b[0m     \u001b[38;5;66;03m# We don't need to worry about locking here, because we've\u001b[39;00m\n\u001b[1;32m   2293\u001b[0m     \u001b[38;5;66;03m# either called loop_forever() when in single threaded mode, or\u001b[39;00m\n\u001b[1;32m   2294\u001b[0m     \u001b[38;5;66;03m# in multi threaded mode when loop_stop() has been called and\u001b[39;00m\n\u001b[1;32m   2295\u001b[0m     \u001b[38;5;66;03m# so no other threads can access _out_packet or _messages.\u001b[39;00m\n\u001b[1;32m   2296\u001b[0m     \u001b[38;5;28;01mif\u001b[39;00m (\u001b[38;5;28mself\u001b[39m\u001b[38;5;241m.\u001b[39m_thread_terminate \u001b[38;5;129;01mis\u001b[39;00m \u001b[38;5;28;01mTrue\u001b[39;00m\n\u001b[1;32m   2297\u001b[0m         \u001b[38;5;129;01mand\u001b[39;00m \u001b[38;5;28mlen\u001b[39m(\u001b[38;5;28mself\u001b[39m\u001b[38;5;241m.\u001b[39m_out_packet) \u001b[38;5;241m==\u001b[39m \u001b[38;5;241m0\u001b[39m\n\u001b[1;32m   2298\u001b[0m             \u001b[38;5;129;01mand\u001b[39;00m \u001b[38;5;28mlen\u001b[39m(\u001b[38;5;28mself\u001b[39m\u001b[38;5;241m.\u001b[39m_out_messages) \u001b[38;5;241m==\u001b[39m \u001b[38;5;241m0\u001b[39m):\n",
      "File \u001b[0;32m~/.local/lib/python3.10/site-packages/paho/mqtt/client.py:1657\u001b[0m, in \u001b[0;36mClient._loop\u001b[0;34m(self, timeout)\u001b[0m\n\u001b[1;32m   1654\u001b[0m     rlist \u001b[38;5;241m=\u001b[39m [\u001b[38;5;28mself\u001b[39m\u001b[38;5;241m.\u001b[39m_sock, \u001b[38;5;28mself\u001b[39m\u001b[38;5;241m.\u001b[39m_sockpairR]\n\u001b[1;32m   1656\u001b[0m \u001b[38;5;28;01mtry\u001b[39;00m:\n\u001b[0;32m-> 1657\u001b[0m     socklist \u001b[38;5;241m=\u001b[39m \u001b[43mselect\u001b[49m\u001b[38;5;241;43m.\u001b[39;49m\u001b[43mselect\u001b[49m\u001b[43m(\u001b[49m\u001b[43mrlist\u001b[49m\u001b[43m,\u001b[49m\u001b[43m \u001b[49m\u001b[43mwlist\u001b[49m\u001b[43m,\u001b[49m\u001b[43m \u001b[49m\u001b[43m[\u001b[49m\u001b[43m]\u001b[49m\u001b[43m,\u001b[49m\u001b[43m \u001b[49m\u001b[43mtimeout\u001b[49m\u001b[43m)\u001b[49m\n\u001b[1;32m   1658\u001b[0m \u001b[38;5;28;01mexcept\u001b[39;00m \u001b[38;5;167;01mTypeError\u001b[39;00m:\n\u001b[1;32m   1659\u001b[0m     \u001b[38;5;66;03m# Socket isn't correct type, in likelihood connection is lost\u001b[39;00m\n\u001b[1;32m   1660\u001b[0m     \u001b[38;5;66;03m# ... or we called disconnect(). In that case the socket will\u001b[39;00m\n\u001b[0;32m   (...)\u001b[0m\n\u001b[1;32m   1663\u001b[0m     \u001b[38;5;66;03m# rc != MQTT_ERR_SUCCESS and we don't want state to change from\u001b[39;00m\n\u001b[1;32m   1664\u001b[0m     \u001b[38;5;66;03m# mqtt_cs_disconnecting.\u001b[39;00m\n\u001b[1;32m   1665\u001b[0m     \u001b[38;5;28;01mif\u001b[39;00m \u001b[38;5;28mself\u001b[39m\u001b[38;5;241m.\u001b[39m_state \u001b[38;5;129;01mnot\u001b[39;00m \u001b[38;5;129;01min\u001b[39;00m (_ConnectionState\u001b[38;5;241m.\u001b[39mMQTT_CS_DISCONNECTING, _ConnectionState\u001b[38;5;241m.\u001b[39mMQTT_CS_DISCONNECTED):\n",
      "\u001b[0;31mKeyboardInterrupt\u001b[0m: "
     ]
    }
   ],
   "source": [
    "# The callback for when the client receives a CONNACK response from the server.\n",
    "def on_connect(client, userdata, flags, reason_code, properties):\n",
    "    print(f\"Connected with result code {reason_code}\")\n",
    "    # Subscribing in on_connect() means that if we lose the connection and\n",
    "    # reconnect then subscriptions will be renewed.\n",
    "    client.subscribe(\"$SYS/#\")\n",
    "    client.subscribe(\"frigate/events\")\n",
    "\n",
    "# The callback for when a PUBLISH message is received from the server.\n",
    "def on_message(client, userdata, msg):\n",
    "    if (msg.topic == 'frigate/events'):\n",
    "        payload = json.loads(str(msg.payload)[2:-1])\n",
    "        print(f'{payload[\"after\"][\"id\"]} {payload[\"after\"][\"end_time\"]}')\n",
    "    else:\n",
    "        print(msg.topic+\" \"+str(msg.payload))\n",
    "\n",
    "mqttc = mqtt.Client(mqtt.CallbackAPIVersion.VERSION2)\n",
    "mqttc.on_connect = on_connect\n",
    "mqttc.on_message = on_message\n",
    "\n",
    "mqttc.connect(\"localhost\", 1883, 60)\n",
    "\n",
    "# Blocking call that processes network traffic, dispatches callbacks and\n",
    "# handles reconnecting.\n",
    "# Other loop*() functions are available that give a threaded interface and a\n",
    "# manual interface.\n",
    "mqttc.loop_forever()"
   ]
  },
  {
   "cell_type": "code",
   "execution_count": 63,
   "metadata": {},
   "outputs": [
    {
     "data": {
      "text/plain": [
       "'\\n1710880842.594859-kakz56\\n'"
      ]
     },
     "execution_count": 63,
     "metadata": {},
     "output_type": "execute_result"
    }
   ],
   "source": [
    "\"\"\"\n",
    "1710880842.594859-kakz56\n",
    "\"\"\""
   ]
  },
  {
   "cell_type": "code",
   "execution_count": 44,
   "metadata": {},
   "outputs": [],
   "source": [
    "id = '1710880842.594859-kakz56'"
   ]
  },
  {
   "cell_type": "code",
   "execution_count": 42,
   "metadata": {},
   "outputs": [],
   "source": [
    "response = requests.get(f'http://localhost:5000/api/events/{id}/clip.mp4')\n",
    "\n",
    "with open(f'{id}.mp4', 'wb') as video:\n",
    "  video.write(response.content)"
   ]
  },
  {
   "cell_type": "code",
   "execution_count": 43,
   "metadata": {},
   "outputs": [
    {
     "data": {
      "text/plain": [
       "{'message': 'Event 1710880842.594859-kakz56 sub label set to Макс. скорость: 40 км/ч',\n",
       " 'success': True}"
      ]
     },
     "execution_count": 43,
     "metadata": {},
     "output_type": "execute_result"
    }
   ],
   "source": [
    "# Тута определение скорости\n",
    "\n",
    "max_speed = 40\n",
    "if max_speed > 30:\n",
    "    url = f'http://localhost:5000/api/events/{id}/sub_label'\n",
    "    data = {\n",
    "        \"subLabel\": f\"Макс. скорость: {max_speed} км/ч\"\n",
    "    }\n",
    "\n",
    "    response = requests.post(url=url, json=data)\n",
    "    response.json()"
   ]
  },
  {
   "cell_type": "markdown",
   "metadata": {},
   "source": [
    "### Заготовка"
   ]
  },
  {
   "cell_type": "code",
   "execution_count": 49,
   "metadata": {},
   "outputs": [],
   "source": [
    "import paho.mqtt.client as mqtt\n",
    "import json\n",
    "import requests"
   ]
  },
  {
   "cell_type": "code",
   "execution_count": 47,
   "metadata": {},
   "outputs": [],
   "source": [
    "def speed_estimation(id):\n",
    "  response = requests.get(f'http://localhost:5000/api/events/{id}/clip.mp4')\n",
    "\n",
    "  with open(f'{id}.mp4', 'wb') as video:\n",
    "    video.write(response.content)\n",
    "\n",
    "  # Тута определение скорости\n",
    "  max_speed = 40\n",
    "\n",
    "  if max_speed > 30:\n",
    "      url = f'http://localhost:5000/api/events/{id}/sub_label'\n",
    "      data = {\n",
    "          \"subLabel\": f\"Макс. скорость: {max_speed} км/ч\"\n",
    "      }\n",
    "\n",
    "      response = requests.post(url=url, json=data)\n",
    "      response.json()"
   ]
  },
  {
   "cell_type": "code",
   "execution_count": null,
   "metadata": {},
   "outputs": [],
   "source": [
    "# The callback for when the client receives a CONNACK response from the server.\n",
    "def on_connect(client, userdata, flags, reason_code, properties):\n",
    "    print(f\"Connected with result code {reason_code}\")\n",
    "    # Subscribing in on_connect()\n",
    "    client.subscribe(\"frigate/events\")\n",
    "\n",
    "# The callback for when a PUBLISH message is received from the server.\n",
    "def on_message(client, userdata, msg):\n",
    "    if (msg.topic == 'frigate/events'):\n",
    "        payload = json.loads(str(msg.payload)[2:-1])\n",
    "        id = payload[\"after\"][\"id\"]\n",
    "        end_time = payload[\"after\"][\"end_time\"]\n",
    "        print(f'{msg.topic} {id} {end_time}')\n",
    "\n",
    "        if end_time is not None:\n",
    "            speed_estimation(id)\n",
    "    else:\n",
    "        print(msg.topic+\" \"+str(msg.payload))\n",
    "\n",
    "mqttc = mqtt.Client(mqtt.CallbackAPIVersion.VERSION2)\n",
    "mqttc.on_connect = on_connect\n",
    "mqttc.on_message = on_message\n",
    "\n",
    "mqttc.connect(\"localhost\", 1883, 60)\n",
    "\n",
    "# Blocking call that processes network traffic, dispatches callbacks and\n",
    "# handles reconnecting.\n",
    "# Other loop*() functions are available that give a threaded interface and a\n",
    "# manual interface.\n",
    "mqttc.loop_forever()"
   ]
  }
 ],
 "metadata": {
  "kernelspec": {
   "display_name": "Python 3",
   "language": "python",
   "name": "python3"
  },
  "language_info": {
   "codemirror_mode": {
    "name": "ipython",
    "version": 3
   },
   "file_extension": ".py",
   "mimetype": "text/x-python",
   "name": "python",
   "nbconvert_exporter": "python",
   "pygments_lexer": "ipython3",
   "version": "3.10.12"
  }
 },
 "nbformat": 4,
 "nbformat_minor": 2
}
