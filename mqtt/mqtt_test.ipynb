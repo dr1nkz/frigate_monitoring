{
 "cells": [
  {
   "cell_type": "code",
   "execution_count": 9,
   "metadata": {},
   "outputs": [],
   "source": [
    "import paho.mqtt.client as mqtt\n",
    "import json\n",
    "import requests"
   ]
  },
  {
   "cell_type": "code",
   "execution_count": 10,
   "metadata": {},
   "outputs": [
    {
     "name": "stdout",
     "output_type": "stream",
     "text": [
      "Connected with result code Success\n"
     ]
    },
    {
     "ename": "KeyboardInterrupt",
     "evalue": "",
     "output_type": "error",
     "traceback": [
      "\u001b[0;31m---------------------------------------------------------------------------\u001b[0m",
      "\u001b[0;31mKeyboardInterrupt\u001b[0m                         Traceback (most recent call last)",
      "Cell \u001b[0;32mIn[10], line 28\u001b[0m\n\u001b[1;32m     22\u001b[0m mqttc\u001b[38;5;241m.\u001b[39mconnect(\u001b[38;5;124m\"\u001b[39m\u001b[38;5;124mlocalhost\u001b[39m\u001b[38;5;124m\"\u001b[39m, \u001b[38;5;241m1883\u001b[39m, \u001b[38;5;241m60\u001b[39m)\n\u001b[1;32m     24\u001b[0m \u001b[38;5;66;03m# Blocking call that processes network traffic, dispatches callbacks and\u001b[39;00m\n\u001b[1;32m     25\u001b[0m \u001b[38;5;66;03m# handles reconnecting.\u001b[39;00m\n\u001b[1;32m     26\u001b[0m \u001b[38;5;66;03m# Other loop*() functions are available that give a threaded interface and a\u001b[39;00m\n\u001b[1;32m     27\u001b[0m \u001b[38;5;66;03m# manual interface.\u001b[39;00m\n\u001b[0;32m---> 28\u001b[0m \u001b[43mmqttc\u001b[49m\u001b[38;5;241;43m.\u001b[39;49m\u001b[43mloop_forever\u001b[49m\u001b[43m(\u001b[49m\u001b[43m)\u001b[49m\n",
      "File \u001b[0;32m~/.local/lib/python3.10/site-packages/paho/mqtt/client.py:2291\u001b[0m, in \u001b[0;36mClient.loop_forever\u001b[0;34m(self, timeout, retry_first_connection)\u001b[0m\n\u001b[1;32m   2289\u001b[0m rc \u001b[38;5;241m=\u001b[39m MQTTErrorCode\u001b[38;5;241m.\u001b[39mMQTT_ERR_SUCCESS\n\u001b[1;32m   2290\u001b[0m \u001b[38;5;28;01mwhile\u001b[39;00m rc \u001b[38;5;241m==\u001b[39m MQTTErrorCode\u001b[38;5;241m.\u001b[39mMQTT_ERR_SUCCESS:\n\u001b[0;32m-> 2291\u001b[0m     rc \u001b[38;5;241m=\u001b[39m \u001b[38;5;28;43mself\u001b[39;49m\u001b[38;5;241;43m.\u001b[39;49m\u001b[43m_loop\u001b[49m\u001b[43m(\u001b[49m\u001b[43mtimeout\u001b[49m\u001b[43m)\u001b[49m\n\u001b[1;32m   2292\u001b[0m     \u001b[38;5;66;03m# We don't need to worry about locking here, because we've\u001b[39;00m\n\u001b[1;32m   2293\u001b[0m     \u001b[38;5;66;03m# either called loop_forever() when in single threaded mode, or\u001b[39;00m\n\u001b[1;32m   2294\u001b[0m     \u001b[38;5;66;03m# in multi threaded mode when loop_stop() has been called and\u001b[39;00m\n\u001b[1;32m   2295\u001b[0m     \u001b[38;5;66;03m# so no other threads can access _out_packet or _messages.\u001b[39;00m\n\u001b[1;32m   2296\u001b[0m     \u001b[38;5;28;01mif\u001b[39;00m (\u001b[38;5;28mself\u001b[39m\u001b[38;5;241m.\u001b[39m_thread_terminate \u001b[38;5;129;01mis\u001b[39;00m \u001b[38;5;28;01mTrue\u001b[39;00m\n\u001b[1;32m   2297\u001b[0m         \u001b[38;5;129;01mand\u001b[39;00m \u001b[38;5;28mlen\u001b[39m(\u001b[38;5;28mself\u001b[39m\u001b[38;5;241m.\u001b[39m_out_packet) \u001b[38;5;241m==\u001b[39m \u001b[38;5;241m0\u001b[39m\n\u001b[1;32m   2298\u001b[0m             \u001b[38;5;129;01mand\u001b[39;00m \u001b[38;5;28mlen\u001b[39m(\u001b[38;5;28mself\u001b[39m\u001b[38;5;241m.\u001b[39m_out_messages) \u001b[38;5;241m==\u001b[39m \u001b[38;5;241m0\u001b[39m):\n",
      "File \u001b[0;32m~/.local/lib/python3.10/site-packages/paho/mqtt/client.py:1657\u001b[0m, in \u001b[0;36mClient._loop\u001b[0;34m(self, timeout)\u001b[0m\n\u001b[1;32m   1654\u001b[0m     rlist \u001b[38;5;241m=\u001b[39m [\u001b[38;5;28mself\u001b[39m\u001b[38;5;241m.\u001b[39m_sock, \u001b[38;5;28mself\u001b[39m\u001b[38;5;241m.\u001b[39m_sockpairR]\n\u001b[1;32m   1656\u001b[0m \u001b[38;5;28;01mtry\u001b[39;00m:\n\u001b[0;32m-> 1657\u001b[0m     socklist \u001b[38;5;241m=\u001b[39m \u001b[43mselect\u001b[49m\u001b[38;5;241;43m.\u001b[39;49m\u001b[43mselect\u001b[49m\u001b[43m(\u001b[49m\u001b[43mrlist\u001b[49m\u001b[43m,\u001b[49m\u001b[43m \u001b[49m\u001b[43mwlist\u001b[49m\u001b[43m,\u001b[49m\u001b[43m \u001b[49m\u001b[43m[\u001b[49m\u001b[43m]\u001b[49m\u001b[43m,\u001b[49m\u001b[43m \u001b[49m\u001b[43mtimeout\u001b[49m\u001b[43m)\u001b[49m\n\u001b[1;32m   1658\u001b[0m \u001b[38;5;28;01mexcept\u001b[39;00m \u001b[38;5;167;01mTypeError\u001b[39;00m:\n\u001b[1;32m   1659\u001b[0m     \u001b[38;5;66;03m# Socket isn't correct type, in likelihood connection is lost\u001b[39;00m\n\u001b[1;32m   1660\u001b[0m     \u001b[38;5;66;03m# ... or we called disconnect(). In that case the socket will\u001b[39;00m\n\u001b[0;32m   (...)\u001b[0m\n\u001b[1;32m   1663\u001b[0m     \u001b[38;5;66;03m# rc != MQTT_ERR_SUCCESS and we don't want state to change from\u001b[39;00m\n\u001b[1;32m   1664\u001b[0m     \u001b[38;5;66;03m# mqtt_cs_disconnecting.\u001b[39;00m\n\u001b[1;32m   1665\u001b[0m     \u001b[38;5;28;01mif\u001b[39;00m \u001b[38;5;28mself\u001b[39m\u001b[38;5;241m.\u001b[39m_state \u001b[38;5;129;01mnot\u001b[39;00m \u001b[38;5;129;01min\u001b[39;00m (_ConnectionState\u001b[38;5;241m.\u001b[39mMQTT_CS_DISCONNECTING, _ConnectionState\u001b[38;5;241m.\u001b[39mMQTT_CS_DISCONNECTED):\n",
      "\u001b[0;31mKeyboardInterrupt\u001b[0m: "
     ]
    }
   ],
   "source": [
    "# The callback for when the client receives a CONNACK response from the server.\n",
    "def on_connect(client, userdata, flags, reason_code, properties):\n",
    "    print(f\"Connected with result code {reason_code}\")\n",
    "    # Subscribing in on_connect() means that if we lose the connection and\n",
    "    # reconnect then subscriptions will be renewed.\n",
    "    client.subscribe(\"$SYS/#\")\n",
    "    client.subscribe(\"frigate/events\")\n",
    "\n",
    "# The callback for when a PUBLISH message is received from the server.\n",
    "def on_message(client, userdata, msg):\n",
    "    if (msg.topic == 'frigate/events'):\n",
    "        print(f'{msg.topic} {msg.payload}')\n",
    "        # payload = json.loads(str(msg.payload)[2:-1])\n",
    "        # print(f'{payload[\"after\"][\"id\"]} {payload[\"after\"][\"end_time\"]}')\n",
    "    else:\n",
    "        print(msg.topic+\" \"+str(msg.payload))\n",
    "\n",
    "mqttc = mqtt.Client(mqtt.CallbackAPIVersion.VERSION2)\n",
    "mqttc.on_connect = on_connect\n",
    "mqttc.on_message = on_message\n",
    "\n",
    "mqttc.connect(\"localhost\", 1883, 60)\n",
    "\n",
    "# Blocking call that processes network traffic, dispatches callbacks and\n",
    "# handles reconnecting.\n",
    "# Other loop*() functions are available that give a threaded interface and a\n",
    "# manual interface.\n",
    "mqttc.loop_forever()"
   ]
  },
  {
   "cell_type": "code",
   "execution_count": null,
   "metadata": {},
   "outputs": [
    {
     "data": {
      "text/plain": [
       "{'before': {'id': '1710925666.831342-hep4y7',\n",
       "  'camera': 'test',\n",
       "  'frame_time': 1710925677.235791,\n",
       "  'snapshot': {'frame_time': 1710925667.026031,\n",
       "   'box': [441, 166, 529, 357],\n",
       "   'area': 16808,\n",
       "   'region': [0, 0, 864, 864],\n",
       "   'score': 0.7551310658454895,\n",
       "   'attributes': []},\n",
       "  'label': 'человек',\n",
       "  'sub_label': None,\n",
       "  'top_score': 0.7451910972595215,\n",
       "  'false_positive': False,\n",
       "  'start_time': 1710925666.831342,\n",
       "  'end_time': None,\n",
       "  'score': 0.6662592887878418,\n",
       "  'box': [436, 176, 519, 370],\n",
       "  'area': 16102,\n",
       "  'ratio': 0.42783505154639173,\n",
       "  'region': [0, 0, 640, 640],\n",
       "  'stationary': True,\n",
       "  'motionless_count': 51,\n",
       "  'position_changes': 1,\n",
       "  'current_zones': [],\n",
       "  'entered_zones': [],\n",
       "  'has_clip': True,\n",
       "  'has_snapshot': False,\n",
       "  'attributes': {},\n",
       "  'current_attributes': []},\n",
       " 'after': {'id': '1710925666.831342-hep4y7',\n",
       "  'camera': 'test',\n",
       "  'frame_time': 1710925686.628307,\n",
       "  'snapshot': {'frame_time': 1710925667.026031,\n",
       "   'box': [441, 166, 529, 357],\n",
       "   'area': 16808,\n",
       "   'region': [0, 0, 864, 864],\n",
       "   'score': 0.7551310658454895,\n",
       "   'attributes': []},\n",
       "  'label': 'человек',\n",
       "  'sub_label': None,\n",
       "  'top_score': 0.7451910972595215,\n",
       "  'false_positive': False,\n",
       "  'start_time': 1710925666.831342,\n",
       "  'end_time': 1710925691.831247,\n",
       "  'score': 0.7020306587219238,\n",
       "  'box': [436, 180, 515, 355],\n",
       "  'area': 13825,\n",
       "  'ratio': 0.4514285714285714,\n",
       "  'region': [0, 0, 680, 680],\n",
       "  'stationary': True,\n",
       "  'motionless_count': 98,\n",
       "  'position_changes': 1,\n",
       "  'current_zones': [],\n",
       "  'entered_zones': [],\n",
       "  'has_clip': True,\n",
       "  'has_snapshot': False,\n",
       "  'attributes': {},\n",
       "  'current_attributes': []},\n",
       " 'type': 'end'}"
      ]
     },
     "execution_count": 4,
     "metadata": {},
     "output_type": "execute_result"
    }
   ],
   "source": [
    "string = \"\"\"{\"before\": {\"id\": \"1710925666.831342-hep4y7\", \"camera\": \"test\", \"frame_time\": 1710925677.235791, \"snapshot\": {\"frame_time\": 1710925667.026031, \"box\": [441, 166, 529, 357], \"area\": 16808, \"region\": [0, 0, 864, 864], \"score\": 0.7551310658454895, \"attributes\": []}, \"label\": \"\\\\u0447\\\\u0435\\\\u043b\\\\u043e\\\\u0432\\\\u0435\\\\u043a\", \"sub_label\": null, \"top_score\": 0.7451910972595215, \"false_positive\": false, \"start_time\": 1710925666.831342, \"end_time\": null, \"score\": 0.6662592887878418, \"box\": [436, 176, 519, 370], \"area\": 16102, \"ratio\": 0.42783505154639173, \"region\": [0, 0, 640, 640], \"stationary\": true, \"motionless_count\": 51, \"position_changes\": 1, \"current_zones\": [], \"entered_zones\": [], \"has_clip\": true, \"has_snapshot\": false, \"attributes\": {}, \"current_attributes\": []}, \"after\": {\"id\": \"1710925666.831342-hep4y7\", \"camera\": \"test\", \"frame_time\": 1710925686.628307, \"snapshot\": {\"frame_time\": 1710925667.026031, \"box\": [441, 166, 529, 357], \"area\": 16808, \"region\": [0, 0, 864, 864], \"score\": 0.7551310658454895, \"attributes\": []}, \"label\": \"\\\\u0447\\\\u0435\\\\u043b\\\\u043e\\\\u0432\\\\u0435\\\\u043a\", \"sub_label\": null, \"top_score\": 0.7451910972595215, \"false_positive\": false, \"start_time\": 1710925666.831342, \"end_time\": 1710925691.831247, \"score\": 0.7020306587219238, \"box\": [436, 180, 515, 355], \"area\": 13825, \"ratio\": 0.4514285714285714, \"region\": [0, 0, 680, 680], \"stationary\": true, \"motionless_count\": 98, \"position_changes\": 1, \"current_zones\": [], \"entered_zones\": [], \"has_clip\": true, \"has_snapshot\": false, \"attributes\": {}, \"current_attributes\": []}, \"type\": \"end\"}\"\"\"\n",
    "json.loads(string)"
   ]
  },
  {
   "cell_type": "code",
   "execution_count": null,
   "metadata": {},
   "outputs": [
    {
     "data": {
      "text/plain": [
       "'\\n1710880842.594859-kakz56\\n'"
      ]
     },
     "execution_count": 63,
     "metadata": {},
     "output_type": "execute_result"
    }
   ],
   "source": [
    "\"\"\"\n",
    "1710880842.594859-kakz56\n",
    "\"\"\""
   ]
  },
  {
   "cell_type": "code",
   "execution_count": null,
   "metadata": {},
   "outputs": [],
   "source": [
    "id = '1710880842.594859-kakz56'"
   ]
  },
  {
   "cell_type": "code",
   "execution_count": null,
   "metadata": {},
   "outputs": [],
   "source": [
    "response = requests.get(f'http://localhost:5000/api/events/{id}/clip.mp4')\n",
    "\n",
    "with open(f'{id}.mp4', 'wb') as video:\n",
    "  video.write(response.content)"
   ]
  },
  {
   "cell_type": "code",
   "execution_count": null,
   "metadata": {},
   "outputs": [
    {
     "data": {
      "text/plain": [
       "{'message': 'Event 1710880842.594859-kakz56 sub label set to Макс. скорость: 40 км/ч',\n",
       " 'success': True}"
      ]
     },
     "execution_count": 43,
     "metadata": {},
     "output_type": "execute_result"
    }
   ],
   "source": [
    "# Тута определение скорости\n",
    "\n",
    "max_estimated_speed = 40\n",
    "if max_estimated_speed > 30:\n",
    "    url = f'http://localhost:5000/api/events/{id}/sub_label'\n",
    "    data = {\n",
    "        \"subLabel\": f\"Макс. скорость: {max_estimated_speed} км/ч\"\n",
    "    }\n",
    "\n",
    "    response = requests.post(url=url, json=data)\n",
    "    response.json()"
   ]
  },
  {
   "cell_type": "markdown",
   "metadata": {},
   "source": [
    "### Заготовка"
   ]
  },
  {
   "cell_type": "code",
   "execution_count": 1,
   "metadata": {},
   "outputs": [],
   "source": [
    "import paho.mqtt.client as mqtt\n",
    "import json\n",
    "import requests"
   ]
  },
  {
   "cell_type": "code",
   "execution_count": 2,
   "metadata": {},
   "outputs": [],
   "source": [
    "from dotenv import load_dotenv\n",
    "import os\n",
    "load_dotenv()\n",
    "CAMERAS = os.getenv('CAMERAS').split(' ')\n",
    "ZONES = os.getenv('ZONES').split()\n",
    "LABELS = os.getenv('LABELS').split()\n",
    "DURATION = int(os.getenv('DURATION'))\n",
    "MAX_SPEED = int(os.getenv('MAX_SPEED'))"
   ]
  },
  {
   "cell_type": "code",
   "execution_count": 4,
   "metadata": {},
   "outputs": [
    {
     "data": {
      "text/plain": [
       "['no_vest', 'no_hemlet']"
      ]
     },
     "execution_count": 4,
     "metadata": {},
     "output_type": "execute_result"
    }
   ],
   "source": [
    "LABELS"
   ]
  },
  {
   "cell_type": "code",
   "execution_count": 5,
   "metadata": {},
   "outputs": [],
   "source": [
    "def speed_estimation(id):\n",
    "    response = requests.get(f'http://localhost:5000/api/events/{id}/clip.mp4')\n",
    "\n",
    "    with open(f'{id}.mp4', 'wb') as video:\n",
    "        video.write(response.content)\n",
    "\n",
    "    # Тута определение скорости\n",
    "    max_speed = 40\n",
    "\n",
    "    if max_speed > 30:\n",
    "        url = f'http://localhost:5000/api/events/{id}/sub_label'\n",
    "        data = {\n",
    "            \"subLabel\": f\"Макс. скорость: {max_speed} км/ч\"\n",
    "        }\n",
    "\n",
    "        response = requests.post(url=url, json=data)\n",
    "        response.json()"
   ]
  },
  {
   "cell_type": "code",
   "execution_count": 6,
   "metadata": {},
   "outputs": [],
   "source": [
    "def set_retain_to_true(id):\n",
    "    url = f'http://localhost:5000/api/events/{id}/retain'\n",
    "    # set star\n",
    "    response = requests.post(url=url)\n",
    "    # remove star\n",
    "    # response = requests.delete(url=url)\n",
    "    print(response.json())\n",
    "\n",
    "def set_sub_label(id, sublabel):\n",
    "    url = f'http://localhost:5000/api/events/{id}/sub_label'\n",
    "    data = {\n",
    "            \"subLabel\": sublabel\n",
    "        }\n",
    "    # Set sublabel\n",
    "    response = requests.post(url=url, json=data)\n",
    "    print(response.json())\n",
    "# set_retain_to_true('1711048455.571456-ywyz75')"
   ]
  },
  {
   "cell_type": "code",
   "execution_count": null,
   "metadata": {},
   "outputs": [],
   "source": [
    "1711125895.477197-tt130p 1711125895.477197 None         no_vest test ['zone_1']\n",
    "{id} {start_time} {end_time} {label} {camera} {entered_zones}"
   ]
  },
  {
   "cell_type": "code",
   "execution_count": 7,
   "metadata": {},
   "outputs": [
    {
     "name": "stdout",
     "output_type": "stream",
     "text": [
      "Connected with result code Success\n",
      "frigate/events 1711126617.025673-m8vd1l 1711126617.025673 None         person test []\n",
      "frigate/events 1711126617.025673-w2c6h8 1711126617.025673 None         helmet test []\n",
      "frigate/events 1711126617.025673-cwinqa 1711126617.025673 None         person test []\n",
      "frigate/events 1711126617.025673-w2c6h8 1711126617.025673 1711126623.391656         helmet test []\n",
      "Speed estimation\n",
      "frigate/events 1711126617.025673-cwinqa 1711126617.025673 None         person test []\n",
      "frigate/events 1711126617.025673-m8vd1l 1711126617.025673 None         person test []\n",
      "frigate/events 1711126627.228192-z7gsz8 1711126627.228192 None         helmet test []\n",
      "frigate/events 1711126627.228192-z7gsz8 1711126627.228192 1711126628.033905         helmet test []\n",
      "Speed estimation\n",
      "frigate/events 1711126617.025673-m8vd1l 1711126617.025673 None         person test []\n",
      "frigate/events 1711126617.025673-cwinqa 1711126617.025673 None         person test []\n",
      "frigate/events 1711126633.42482-e2tg0r 1711126633.42482 None         helmet test []\n",
      "frigate/events 1711126633.42482-e2tg0r 1711126633.42482 1711126634.223026         helmet test []\n",
      "Speed estimation\n",
      "frigate/events 1711126617.025673-m8vd1l 1711126617.025673 None         person test []\n",
      "frigate/events 1711126635.426453-55er31 1711126635.426453 None         helmet test []\n",
      "frigate/events 1711126617.025673-cwinqa 1711126617.025673 None         person test []\n",
      "frigate/events 1711126617.025673-cwinqa 1711126617.025673 None         person test []\n",
      "frigate/events 1711126617.025673-cwinqa 1711126617.025673 None         person test []\n",
      "frigate/events 1711126617.025673-cwinqa 1711126617.025673 None         person test []\n",
      "frigate/events 1711126635.426453-55er31 1711126635.426453 1711126638.22696         helmet test []\n",
      "Speed estimation\n",
      "frigate/events 1711126617.025673-m8vd1l 1711126617.025673 None         person test []\n",
      "frigate/events 1711126617.025673-m8vd1l 1711126617.025673 1711126642.819742         person test []\n",
      "Speed estimation\n",
      "frigate/events 1711126617.025673-cwinqa 1711126617.025673 1711126650.06314         person test []\n",
      "Speed estimation\n",
      "frigate/events 1711126838.948489-v3uv2j 1711126838.948489 None         helmet test []\n",
      "frigate/events 1711126838.948489-v3uv2j 1711126838.948489 None         helmet test []\n",
      "frigate/events 1711126838.948489-v3uv2j 1711126838.948489 None         helmet test []\n",
      "frigate/events 1711126845.544329-ytxhcq 1711126845.544329 None         no_vest test []\n",
      "frigate/events 1711126838.948489-v3uv2j 1711126838.948489 None         helmet test []\n",
      "frigate/events 1711126838.948489-v3uv2j 1711126838.948489 None         helmet test []\n",
      "frigate/events 1711126845.544329-ytxhcq 1711126845.544329 None         no_vest test ['zone_1']\n",
      "{'message': 'Event 1711126845.544329-ytxhcq retained', 'success': True}\n",
      "Unwanted object from camera in zone\n",
      "frigate/events 1711126845.544329-ytxhcq 1711126845.544329 None         no_vest test ['zone_1']\n",
      "{'message': 'Event 1711126845.544329-ytxhcq retained', 'success': True}\n",
      "Unwanted object from camera in zone\n",
      "frigate/events 1711126838.948489-v3uv2j 1711126838.948489 None         helmet test []\n",
      "frigate/events 1711126845.544329-ytxhcq 1711126845.544329 1711126867.548886         no_vest test ['zone_1']\n",
      "{'message': 'Event 1711126845.544329-ytxhcq retained', 'success': True}\n",
      "Unwanted object from camera in zone\n",
      "Speed estimation\n",
      "frigate/events 1711126838.948489-v3uv2j 1711126838.948489 None         helmet test []\n",
      "frigate/events 1711126838.948489-v3uv2j 1711126838.948489 1711126868.942216         helmet test []\n",
      "Speed estimation\n"
     ]
    },
    {
     "ename": "KeyboardInterrupt",
     "evalue": "",
     "output_type": "error",
     "traceback": [
      "\u001b[0;31m---------------------------------------------------------------------------\u001b[0m",
      "\u001b[0;31mKeyboardInterrupt\u001b[0m                         Traceback (most recent call last)",
      "Cell \u001b[0;32mIn[7], line 62\u001b[0m\n\u001b[1;32m     56\u001b[0m mqttc\u001b[38;5;241m.\u001b[39mconnect(\u001b[38;5;124m\"\u001b[39m\u001b[38;5;124mlocalhost\u001b[39m\u001b[38;5;124m\"\u001b[39m, \u001b[38;5;241m1883\u001b[39m, \u001b[38;5;241m60\u001b[39m)\n\u001b[1;32m     58\u001b[0m \u001b[38;5;66;03m# Blocking call that processes network traffic, dispatches callbacks and\u001b[39;00m\n\u001b[1;32m     59\u001b[0m \u001b[38;5;66;03m# handles reconnecting.\u001b[39;00m\n\u001b[1;32m     60\u001b[0m \u001b[38;5;66;03m# Other loop*() functions are available that give a threaded interface and a\u001b[39;00m\n\u001b[1;32m     61\u001b[0m \u001b[38;5;66;03m# manual interface.\u001b[39;00m\n\u001b[0;32m---> 62\u001b[0m \u001b[43mmqttc\u001b[49m\u001b[38;5;241;43m.\u001b[39;49m\u001b[43mloop_forever\u001b[49m\u001b[43m(\u001b[49m\u001b[43m)\u001b[49m\n",
      "File \u001b[0;32m~/.local/lib/python3.10/site-packages/paho/mqtt/client.py:2291\u001b[0m, in \u001b[0;36mClient.loop_forever\u001b[0;34m(self, timeout, retry_first_connection)\u001b[0m\n\u001b[1;32m   2289\u001b[0m rc \u001b[38;5;241m=\u001b[39m MQTTErrorCode\u001b[38;5;241m.\u001b[39mMQTT_ERR_SUCCESS\n\u001b[1;32m   2290\u001b[0m \u001b[38;5;28;01mwhile\u001b[39;00m rc \u001b[38;5;241m==\u001b[39m MQTTErrorCode\u001b[38;5;241m.\u001b[39mMQTT_ERR_SUCCESS:\n\u001b[0;32m-> 2291\u001b[0m     rc \u001b[38;5;241m=\u001b[39m \u001b[38;5;28;43mself\u001b[39;49m\u001b[38;5;241;43m.\u001b[39;49m\u001b[43m_loop\u001b[49m\u001b[43m(\u001b[49m\u001b[43mtimeout\u001b[49m\u001b[43m)\u001b[49m\n\u001b[1;32m   2292\u001b[0m     \u001b[38;5;66;03m# We don't need to worry about locking here, because we've\u001b[39;00m\n\u001b[1;32m   2293\u001b[0m     \u001b[38;5;66;03m# either called loop_forever() when in single threaded mode, or\u001b[39;00m\n\u001b[1;32m   2294\u001b[0m     \u001b[38;5;66;03m# in multi threaded mode when loop_stop() has been called and\u001b[39;00m\n\u001b[1;32m   2295\u001b[0m     \u001b[38;5;66;03m# so no other threads can access _out_packet or _messages.\u001b[39;00m\n\u001b[1;32m   2296\u001b[0m     \u001b[38;5;28;01mif\u001b[39;00m (\u001b[38;5;28mself\u001b[39m\u001b[38;5;241m.\u001b[39m_thread_terminate \u001b[38;5;129;01mis\u001b[39;00m \u001b[38;5;28;01mTrue\u001b[39;00m\n\u001b[1;32m   2297\u001b[0m         \u001b[38;5;129;01mand\u001b[39;00m \u001b[38;5;28mlen\u001b[39m(\u001b[38;5;28mself\u001b[39m\u001b[38;5;241m.\u001b[39m_out_packet) \u001b[38;5;241m==\u001b[39m \u001b[38;5;241m0\u001b[39m\n\u001b[1;32m   2298\u001b[0m             \u001b[38;5;129;01mand\u001b[39;00m \u001b[38;5;28mlen\u001b[39m(\u001b[38;5;28mself\u001b[39m\u001b[38;5;241m.\u001b[39m_out_messages) \u001b[38;5;241m==\u001b[39m \u001b[38;5;241m0\u001b[39m):\n",
      "File \u001b[0;32m~/.local/lib/python3.10/site-packages/paho/mqtt/client.py:1657\u001b[0m, in \u001b[0;36mClient._loop\u001b[0;34m(self, timeout)\u001b[0m\n\u001b[1;32m   1654\u001b[0m     rlist \u001b[38;5;241m=\u001b[39m [\u001b[38;5;28mself\u001b[39m\u001b[38;5;241m.\u001b[39m_sock, \u001b[38;5;28mself\u001b[39m\u001b[38;5;241m.\u001b[39m_sockpairR]\n\u001b[1;32m   1656\u001b[0m \u001b[38;5;28;01mtry\u001b[39;00m:\n\u001b[0;32m-> 1657\u001b[0m     socklist \u001b[38;5;241m=\u001b[39m \u001b[43mselect\u001b[49m\u001b[38;5;241;43m.\u001b[39;49m\u001b[43mselect\u001b[49m\u001b[43m(\u001b[49m\u001b[43mrlist\u001b[49m\u001b[43m,\u001b[49m\u001b[43m \u001b[49m\u001b[43mwlist\u001b[49m\u001b[43m,\u001b[49m\u001b[43m \u001b[49m\u001b[43m[\u001b[49m\u001b[43m]\u001b[49m\u001b[43m,\u001b[49m\u001b[43m \u001b[49m\u001b[43mtimeout\u001b[49m\u001b[43m)\u001b[49m\n\u001b[1;32m   1658\u001b[0m \u001b[38;5;28;01mexcept\u001b[39;00m \u001b[38;5;167;01mTypeError\u001b[39;00m:\n\u001b[1;32m   1659\u001b[0m     \u001b[38;5;66;03m# Socket isn't correct type, in likelihood connection is lost\u001b[39;00m\n\u001b[1;32m   1660\u001b[0m     \u001b[38;5;66;03m# ... or we called disconnect(). In that case the socket will\u001b[39;00m\n\u001b[0;32m   (...)\u001b[0m\n\u001b[1;32m   1663\u001b[0m     \u001b[38;5;66;03m# rc != MQTT_ERR_SUCCESS and we don't want state to change from\u001b[39;00m\n\u001b[1;32m   1664\u001b[0m     \u001b[38;5;66;03m# mqtt_cs_disconnecting.\u001b[39;00m\n\u001b[1;32m   1665\u001b[0m     \u001b[38;5;28;01mif\u001b[39;00m \u001b[38;5;28mself\u001b[39m\u001b[38;5;241m.\u001b[39m_state \u001b[38;5;129;01mnot\u001b[39;00m \u001b[38;5;129;01min\u001b[39;00m (_ConnectionState\u001b[38;5;241m.\u001b[39mMQTT_CS_DISCONNECTING, _ConnectionState\u001b[38;5;241m.\u001b[39mMQTT_CS_DISCONNECTED):\n",
      "\u001b[0;31mKeyboardInterrupt\u001b[0m: "
     ]
    }
   ],
   "source": [
    "# The callback for when the client receives a CONNACK response from the server.\n",
    "def on_connect(client, userdata, flags, reason_code, properties):\n",
    "    print(f\"Connected with result code {reason_code}\")\n",
    "    # Subscribing in on_connect()\n",
    "    client.subscribe(\"frigate/events\")\n",
    "\n",
    "# The callback for when a PUBLISH message is received from the server.\n",
    "def on_message(client, userdata, msg):\n",
    "    \"\"\"\n",
    "    The callback for when a PUBLISH message is received from the server.\n",
    "    \"\"\"\n",
    "    if (msg.topic == 'frigate/events'):\n",
    "        payload = json.loads(str(msg.payload)[2:-1])\n",
    "\n",
    "        # Required alues from payload\n",
    "        id = payload[\"after\"][\"id\"]\n",
    "        start_time = payload[\"after\"][\"start_time\"]\n",
    "        end_time = payload[\"after\"][\"end_time\"]\n",
    "        label = payload[\"after\"][\"label\"]\n",
    "        camera = payload[\"after\"][\"camera\"]\n",
    "        entered_zones = payload[\"after\"][\"entered_zones\"]\n",
    "        sub_label = payload[\"after\"][\"sub_label\"]\n",
    "\n",
    "        print(f'{msg.topic} {id} {start_time} {end_time} \\\n",
    "        {label} {camera} {entered_zones}')\n",
    "\n",
    "        # Unwanted object from camera in zone\n",
    "        for entered_zone in entered_zones:\n",
    "            if label in LABELS and camera in CAMERAS and entered_zone in ZONES:\n",
    "                sublabel_to_set = 'Unwanted object from camera in zone'\n",
    "                set_retain_to_true(id)\n",
    "                set_sub_label(id, sublabel_to_set)\n",
    "                print('Unwanted object from camera in zone')\n",
    "                break\n",
    "\n",
    "        # Event longer than stated\n",
    "        if end_time is not None:\n",
    "            if end_time - start_time > DURATION:\n",
    "                sublabel_to_set = 'Event longer than stated'\n",
    "                set_retain_to_true(id)\n",
    "                if sub_label is not None:\n",
    "                    set_sub_label(id, sublabel_to_set)\n",
    "                print('Event longer than stated')\n",
    "\n",
    "        # Speed estimation\n",
    "        if end_time is not None:\n",
    "            # speed_estimation(id)\n",
    "            print('Speed estimation')\n",
    "    else:\n",
    "        print(msg.topic+\" \"+str(msg.payload))\n",
    "\n",
    "mqttc = mqtt.Client(mqtt.CallbackAPIVersion.VERSION2)\n",
    "mqttc.on_connect = on_connect\n",
    "mqttc.on_message = on_message\n",
    "\n",
    "mqttc.connect(\"localhost\", 1883, 60)\n",
    "\n",
    "# Blocking call that processes network traffic, dispatches callbacks and\n",
    "# handles reconnecting.\n",
    "# Other loop*() functions are available that give a threaded interface and a\n",
    "# manual interface.\n",
    "mqttc.loop_forever()"
   ]
  },
  {
   "cell_type": "code",
   "execution_count": null,
   "metadata": {},
   "outputs": [],
   "source": []
  },
  {
   "cell_type": "code",
   "execution_count": null,
   "metadata": {},
   "outputs": [
    {
     "name": "stdout",
     "output_type": "stream",
     "text": [
      "12 12 45 13 6546546 8767 454\n"
     ]
    }
   ],
   "source": [
    "print(f'{12} {12} {45} {13} \\\n",
    "{6546546} {8767} {454}')"
   ]
  }
 ],
 "metadata": {
  "kernelspec": {
   "display_name": "Python 3",
   "language": "python",
   "name": "python3"
  },
  "language_info": {
   "codemirror_mode": {
    "name": "ipython",
    "version": 3
   },
   "file_extension": ".py",
   "mimetype": "text/x-python",
   "name": "python",
   "nbconvert_exporter": "python",
   "pygments_lexer": "ipython3",
   "version": "3.10.12"
  }
 },
 "nbformat": 4,
 "nbformat_minor": 2
}
