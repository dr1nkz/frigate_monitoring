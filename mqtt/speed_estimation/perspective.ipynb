{
 "cells": [
  {
   "cell_type": "code",
   "execution_count": 1,
   "metadata": {},
   "outputs": [],
   "source": [
    "import cv2\n",
    "import numpy as np\n",
    "\n",
    "from view_transformer import view_transformer"
   ]
  },
  {
   "cell_type": "code",
   "execution_count": 30,
   "metadata": {},
   "outputs": [
    {
     "name": "stdout",
     "output_type": "stream",
     "text": [
      "[[158 281]]\n"
     ]
    }
   ],
   "source": [
    "cv2.namedWindow('photo', cv2.WINDOW_FULLSCREEN)\n",
    "img = cv2.imread('./photo.jpg')\n",
    "\n",
    "# cv2.scatter(x_array, y_array, color='red')\n",
    "\n",
    "# Определение координат точки (x, y)\n",
    "source = np.array([(250, 160), (670, 460), (1120, 320), (610, 140)])\n",
    "circle_color = (0, 0, 255)\n",
    "circle_radius = 5\n",
    "\n",
    "for center in source:\n",
    "    # Рисование точки на изображении\n",
    "    cv2.circle(img=img, center=center, radius=circle_radius, color=circle_color, thickness=circle_radius)\n",
    "\n",
    "cv2.imshow('photo', img)\n",
    "\n",
    "SOURCE = source\n",
    "TARGET_WIDTH = 200\n",
    "TARGET_HEIGHT = 300\n",
    "TARGET = np.array([\n",
    "    [0, 0],\n",
    "    [TARGET_WIDTH - 1, 0],\n",
    "    [TARGET_WIDTH - 1, TARGET_HEIGHT - 1],\n",
    "    [0, TARGET_HEIGHT - 1],\n",
    "])\n",
    "\n",
    "transformer = view_transformer(source=SOURCE, target=TARGET)\n",
    "\n",
    "bounding_boxes = np.array([[600, 200, 700, 270]])\n",
    "points = np.array([[x_1 + x_2 / 2, y]\n",
    "                          for [x_1, _, x_2, y] in bounding_boxes])\n",
    "points = transformer.transform_points(points=points).astype(int)\n",
    "\n",
    "print(points)\n",
    "\n",
    "while True:\n",
    "    if cv2.waitKey(1) & 0xFF == ord('q'):\n",
    "        cv2.destroyAllWindows()\n",
    "        break"
   ]
  }
 ],
 "metadata": {
  "kernelspec": {
   "display_name": "Python 3",
   "language": "python",
   "name": "python3"
  },
  "language_info": {
   "codemirror_mode": {
    "name": "ipython",
    "version": 3
   },
   "file_extension": ".py",
   "mimetype": "text/x-python",
   "name": "python",
   "nbconvert_exporter": "python",
   "pygments_lexer": "ipython3",
   "version": "3.10.12"
  }
 },
 "nbformat": 4,
 "nbformat_minor": 2
}
